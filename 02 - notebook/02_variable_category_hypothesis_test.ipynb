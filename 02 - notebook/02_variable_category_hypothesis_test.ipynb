{
 "cells": [
  {
   "cell_type": "code",
   "execution_count": 13,
   "id": "e838db9c",
   "metadata": {},
   "outputs": [],
   "source": [
    "import pandas as pd\n",
    "import os\n",
    "import scipy.stats as stats\n",
    "import seaborn as sns\n",
    "import matplotlib.pyplot as plt\n",
    "from scipy.stats import shapiro\n",
    "from scipy.stats import kruskal\n",
    "import statsmodels.api as sm"
   ]
  },
  {
   "cell_type": "code",
   "execution_count": 2,
   "id": "d27e142d",
   "metadata": {},
   "outputs": [],
   "source": [
    "raw_path = '../01 - data/02 - processed/'\n",
    "df = pd.read_csv(os.path.join(raw_path, 'processed_data.csv'))"
   ]
  },
  {
   "cell_type": "code",
   "execution_count": 10,
   "id": "7b04ea7e",
   "metadata": {},
   "outputs": [
    {
     "name": "stdout",
     "output_type": "stream",
     "text": [
      "<class 'pandas.core.frame.DataFrame'>\n",
      "RangeIndex: 951 entries, 0 to 950\n",
      "Data columns (total 23 columns):\n",
      " #   Column                     Non-Null Count  Dtype  \n",
      "---  ------                     --------------  -----  \n",
      " 0   Trip_Distance_km           951 non-null    float64\n",
      " 1   Passenger_Count            951 non-null    float64\n",
      " 2   Base_Fare                  951 non-null    float64\n",
      " 3   Per_Km_Rate                951 non-null    float64\n",
      " 4   Per_Minute_Rate            951 non-null    float64\n",
      " 5   Trip_Duration_Minutes      951 non-null    float64\n",
      " 6   Time_of_Day_Afternoon      951 non-null    float64\n",
      " 7   Time_of_Day_Evening        951 non-null    float64\n",
      " 8   Time_of_Day_Morning        951 non-null    float64\n",
      " 9   Time_of_Day_Night          951 non-null    float64\n",
      " 10  Day_of_Week_Weekday        951 non-null    float64\n",
      " 11  Day_of_Week_Weekend        951 non-null    float64\n",
      " 12  Traffic_Conditions_High    951 non-null    float64\n",
      " 13  Traffic_Conditions_Low     951 non-null    float64\n",
      " 14  Traffic_Conditions_Medium  951 non-null    float64\n",
      " 15  Weather_Clear              951 non-null    float64\n",
      " 16  Weather_Rain               951 non-null    float64\n",
      " 17  Weather_Snow               951 non-null    float64\n",
      " 18  Trip_Price                 951 non-null    float64\n",
      " 19  Day_of_Week                951 non-null    object \n",
      " 20  Time_of_Day                951 non-null    object \n",
      " 21  Traffic_Conditions         951 non-null    object \n",
      " 22  Weather                    951 non-null    object \n",
      "dtypes: float64(19), object(4)\n",
      "memory usage: 171.0+ KB\n"
     ]
    }
   ],
   "source": [
    "df.info()"
   ]
  },
  {
   "cell_type": "code",
   "execution_count": null,
   "id": "9dc84121",
   "metadata": {},
   "outputs": [],
   "source": [
    "def reconstruct_categoricals(row):\n",
    "    \n",
    "    if row['Day_of_Week_Weekday'] == 1:\n",
    "        day_of_week = 'Weekday'\n",
    "    elif row['Day_of_Week_Weekend'] == 1:\n",
    "        day_of_week = 'Weekend'\n",
    "    else:\n",
    "        day_of_week = 'Unknown'\n",
    "\n",
    "    \n",
    "    if row['Time_of_Day_Morning'] == 1:\n",
    "        time_of_day = 'Morning'\n",
    "    elif row['Time_of_Day_Afternoon'] == 1:\n",
    "        time_of_day = 'Afternoon'\n",
    "    elif row['Time_of_Day_Evening'] == 1:\n",
    "        time_of_day = 'Evening'\n",
    "    elif row['Time_of_Day_Night'] == 1:\n",
    "        time_of_day = 'Night'\n",
    "    else:\n",
    "        time_of_day = 'Unknown'\n",
    "\n",
    "    \n",
    "    if row['Traffic_Conditions_Low'] == 1:\n",
    "        traffic = 'Low'\n",
    "    elif row['Traffic_Conditions_Medium'] == 1:\n",
    "        traffic = 'Medium'\n",
    "    elif row['Traffic_Conditions_High'] == 1:\n",
    "        traffic = 'High'\n",
    "    else:\n",
    "        traffic = 'Unknown'\n",
    "\n",
    "    \n",
    "    if row['Weather_Clear'] == 1:\n",
    "        weather = 'Clear'\n",
    "    elif row['Weather_Rain'] == 1:\n",
    "        weather = 'Rain'\n",
    "    elif row['Weather_Snow'] == 1:\n",
    "        weather = 'Snow'\n",
    "    else:\n",
    "        weather = 'Unknown'\n",
    "\n",
    "    return pd.Series({\n",
    "        'Day_of_Week': day_of_week,\n",
    "        'Time_of_Day': time_of_day,\n",
    "        'Traffic_Conditions': traffic,\n",
    "        'Weather': weather\n",
    "    })\n",
    "\n",
    "\n",
    "df[['Day_of_Week', 'Time_of_Day', 'Traffic_Conditions', 'Weather']] = df.apply(reconstruct_categoricals, axis=1)\n"
   ]
  },
  {
   "cell_type": "code",
   "execution_count": 5,
   "id": "2e0176e4",
   "metadata": {},
   "outputs": [
    {
     "name": "stdout",
     "output_type": "stream",
     "text": [
      "Test t Day_of_Week: t=0.997, p=0.319\n",
      "The variance of the variable does not influence the target.\n"
     ]
    }
   ],
   "source": [
    "\n",
    "price_weekday = df.loc[df['Day_of_Week'] == 'Weekday', 'Trip_Price']\n",
    "price_weekend = df.loc[df['Day_of_Week'] == 'Weekend', 'Trip_Price']\n",
    "\n",
    "# T test\n",
    "t_stat, p_value = stats.ttest_ind(price_weekday, price_weekend, equal_var=False)  # Welch's t-test\n",
    "\n",
    "print(f'Test t Day_of_Week: t={t_stat:.3f}, p={p_value:.3f}')\n",
    "\n",
    "def hypoteses_test(p_value):\n",
    "    if p_value < 0.05:\n",
    "        return  'The variance of the variable influences the target.'\n",
    "    else:\n",
    "        return 'The variance of the variable does not influence the target.'\n",
    "    \n",
    "\n",
    "print(hypoteses_test(p_value))"
   ]
  },
  {
   "cell_type": "code",
   "execution_count": 8,
   "id": "62c2a6ca",
   "metadata": {},
   "outputs": [
    {
     "name": "stdout",
     "output_type": "stream",
     "text": [
      "\n",
      "🔍 Testing normality for the variable: Time_of_Day\n",
      "Group \"Morning\": n=265 | p-value = 0.0000\n",
      "❌ Distribution does NOT appear a Normal Dustribution (reject H0)\n",
      "Group \"Evening\": n=197 | p-value = 0.0000\n",
      "❌ Distribution does NOT appear a Normal Dustribution (reject H0)\n",
      "Group \"Afternoon\": n=400 | p-value = 0.0000\n",
      "❌ Distribution does NOT appear a Normal Dustribution (reject H0)\n",
      "Group \"Night\": n=89 | p-value = 0.0000\n",
      "❌ Distribution does NOT appear a Normal Dustribution (reject H0)\n",
      "\n",
      "🔍 Testing normality for the variable: Traffic_Conditions\n",
      "Group \"Low\": n=424 | p-value = 0.0000\n",
      "❌ Distribution does NOT appear a Normal Dustribution (reject H0)\n",
      "Group \"High\": n=172 | p-value = 0.0000\n",
      "❌ Distribution does NOT appear a Normal Dustribution (reject H0)\n",
      "Group \"Medium\": n=355 | p-value = 0.0000\n",
      "❌ Distribution does NOT appear a Normal Dustribution (reject H0)\n",
      "\n",
      "🔍 Testing normality for the variable: Weather\n",
      "Group \"Clear\": n=680 | p-value = 0.0000\n",
      "❌ Distribution does NOT appear a Normal Dustribution (reject H0)\n",
      "Group \"Rain\": n=216 | p-value = 0.0000\n",
      "❌ Distribution does NOT appear a Normal Dustribution (reject H0)\n",
      "Group \"Snow\": n=55 | p-value = 0.0000\n",
      "❌ Distribution does NOT appear a Normal Dustribution (reject H0)\n"
     ]
    }
   ],
   "source": [
    "# List with the names of categorical variables\n",
    "categorical_vars = ['Time_of_Day', 'Traffic_Conditions', 'Weather']\n",
    "\n",
    "# Loop to test normality of groups for each variable\n",
    "for var in categorical_vars:\n",
    "    print(f'\\n🔍 Testing normality for the variable: {var}')\n",
    "    \n",
    "    for group in df[var].unique():\n",
    "        # Select the target (e.g. Delivery_Time) for the group\n",
    "        group_data = df[df[var] == group]['Trip_Price']\n",
    "        \n",
    "        # Check that the size is sufficient for the test\n",
    "        if len(group_data) >= 3:\n",
    "            stat, p_value = shapiro(group_data)\n",
    "            print(f'Group \"{group}\": n={len(group_data)} | p-value = {p_value:.4f}')\n",
    "            \n",
    "            if p_value > 0.05:\n",
    "                print(\"✔️ Distribution appears a  Normal Distribution (failure to reject H0)\")\n",
    "            else:\n",
    "                print(\"❌ Distribution does NOT appear a Normal Dustribution (reject H0)\")\n",
    "        else:\n",
    "            print(f'⚠️ Group \"{group}\" has fewer than 3 observations. Test ignored.')"
   ]
  },
  {
   "cell_type": "code",
   "execution_count": 9,
   "id": "38c94eb2",
   "metadata": {},
   "outputs": [
    {
     "name": "stdout",
     "output_type": "stream",
     "text": [
      "\n",
      "🧪 Kruskal-Wallis test for the variable: Time_of_Day\n",
      "Statistic H = 0.0209 | p-value = 0.9992\n",
      "✅ No evidence of significant difference (failure to reject H0)\n",
      "\n",
      "🧪 Kruskal-Wallis test for the variable: Traffic_Conditions\n",
      "Statistic H = 2.3362 | p-value = 0.3110\n",
      "✅ No evidence of significant difference (failure to reject H0)\n",
      "\n",
      "🧪 Kruskal-Wallis test for the variable: Weather\n",
      "Statistic H = 1.0899 | p-value = 0.5799\n",
      "✅ No evidence of significant difference (failure to reject H0)\n"
     ]
    }
   ],
   "source": [
    "\n",
    "\n",
    "# Loop to apply the Kruskal-Wallis test\n",
    "for var in categorical_vars:\n",
    "    print(f'\\n🧪 Kruskal-Wallis test for the variable: {var}')\n",
    "    \n",
    "    # Create a list with the Trip_Price data for each group\n",
    "    group_data = [df[df[var] == group]['Trip_Price'] for group in df[var].unique()]\n",
    "    \n",
    "    # Apply the test\n",
    "    stat, p_value = kruskal(*group_data)\n",
    "    \n",
    "    print(f'Statistic H = {stat:.4f} | p-value = {p_value:.4f}')\n",
    "    \n",
    "    if p_value < 0.05:\n",
    "        print('❗Significant difference between at least two groups (rejects H0)')\n",
    "    else:\n",
    "        print('✅ No evidence of significant difference (failure to reject H0)')"
   ]
  },
  {
   "cell_type": "code",
   "execution_count": 14,
   "id": "1f68f6ae",
   "metadata": {},
   "outputs": [
    {
     "name": "stdout",
     "output_type": "stream",
     "text": [
      "                            OLS Regression Results                            \n",
      "==============================================================================\n",
      "Dep. Variable:             Trip_Price   R-squared:                       0.864\n",
      "Model:                            OLS   Adj. R-squared:                  0.863\n",
      "Method:                 Least Squares   F-statistic:                     995.6\n",
      "Date:                Thu, 24 Jul 2025   Prob (F-statistic):               0.00\n",
      "Time:                        08:59:14   Log-Likelihood:                -3921.1\n",
      "No. Observations:                 951   AIC:                             7856.\n",
      "Df Residuals:                     944   BIC:                             7890.\n",
      "Df Model:                           6                                         \n",
      "Covariance Type:            nonrobust                                         \n",
      "=========================================================================================\n",
      "                            coef    std err          t      P>|t|      [0.025      0.975]\n",
      "-----------------------------------------------------------------------------------------\n",
      "const                   -59.4522      3.193    -18.620      0.000     -65.718     -53.186\n",
      "Trip_Distance_km          1.7655      0.025     71.027      0.000       1.717       1.814\n",
      "Passenger_Count           0.0440      0.453      0.097      0.923      -0.844       0.932\n",
      "Base_Fare                 0.3641      0.575      0.633      0.527      -0.765       1.493\n",
      "Per_Km_Rate              25.4231      1.161     21.906      0.000      23.145      27.701\n",
      "Per_Minute_Rate          58.0763      4.338     13.389      0.000      49.563      66.589\n",
      "Trip_Duration_Minutes     0.3023      0.015     19.566      0.000       0.272       0.333\n",
      "==============================================================================\n",
      "Omnibus:                      644.716   Durbin-Watson:                   2.038\n",
      "Prob(Omnibus):                  0.000   Jarque-Bera (JB):            16659.762\n",
      "Skew:                           2.702   Prob(JB):                         0.00\n",
      "Kurtosis:                      22.779   Cond. No.                         708.\n",
      "==============================================================================\n",
      "\n",
      "Notes:\n",
      "[1] Standard Errors assume that the covariance matrix of the errors is correctly specified.\n"
     ]
    }
   ],
   "source": [
    "# Define your independent variables (features)\n",
    "X = df[['Trip_Distance_km', 'Passenger_Count', 'Base_Fare', \n",
    "        'Per_Km_Rate', 'Per_Minute_Rate', 'Trip_Duration_Minutes']]\n",
    "\n",
    "# Define your dependent variable (target)\n",
    "y = df['Trip_Price']  # Replace 'Target' with your actual target column\n",
    "\n",
    "# Add constant term for intercept in the model\n",
    "X = sm.add_constant(X)\n",
    "\n",
    "# Fit the linear regression model\n",
    "model = sm.OLS(y, X).fit()\n",
    "\n",
    "# Print the full summary with p-values and R-squared\n",
    "print(model.summary())"
   ]
  },
  {
   "cell_type": "markdown",
   "id": "c95182aa",
   "metadata": {},
   "source": [
    "📘 Statistical Analysis Summary\n",
    "For the categorical variables, I first tested the normality of the dependent variable (Trip_Price) within each group of the categorical feature. For example, for the variable Time_of_Day, I checked whether the distribution of Trip_Price was normal within each category: Morning, Afternoon, Evening, and Night.\n",
    "\n",
    "If all groups passed the normality test, I proceeded with ANOVA to determine if there was a statistically significant difference in the mean Trip_Price between groups.\n",
    "\n",
    "If normality was violated in at least one group, I used the Kruskal-Wallis test, which is a non-parametric alternative to ANOVA and does not assume normal distribution.\n",
    "\n",
    "For binary categorical variables (e.g., Is_Weekend), I used the independent t-test if both groups showed normality, or the Mann-Whitney U test if not.\n",
    "\n",
    "For the numerical variables, I performed a multiple linear regression with Trip_Price as the dependent variable and the numerical features as predictors. I evaluated the statistical significance of each predictor using p-values:\n",
    "\n",
    "A variable was considered statistically significant if its p-value was less than 0.05.\n",
    "\n",
    "It’s important to note that a high coefficient does not imply high importance if the p-value is not significant. For example, Base_Fare had a relatively high coefficient but a high p-value, meaning its effect is not statistically reliable.\n",
    "\n",
    "On the other hand, Trip_Duration_Minutes had a lower coefficient but a very low p-value, indicating strong statistical significance.\n",
    "\n",
    "This analysis helped me identify which features truly contribute to predicting the target variable and which ones may appear impactful but are statistically weak."
   ]
  }
 ],
 "metadata": {
  "kernelspec": {
   "display_name": "Python 3",
   "language": "python",
   "name": "python3"
  },
  "language_info": {
   "codemirror_mode": {
    "name": "ipython",
    "version": 3
   },
   "file_extension": ".py",
   "mimetype": "text/x-python",
   "name": "python",
   "nbconvert_exporter": "python",
   "pygments_lexer": "ipython3",
   "version": "3.13.2"
  }
 },
 "nbformat": 4,
 "nbformat_minor": 5
}
