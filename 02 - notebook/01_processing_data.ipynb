{
 "cells": [
  {
   "cell_type": "code",
   "execution_count": 1,
   "id": "d613d789",
   "metadata": {},
   "outputs": [],
   "source": [
    "import pandas as pd\n",
    "import os\n",
    "import numpy as np\n",
    "from sklearn.model_selection import train_test_split, cross_val_score\n",
    "from sklearn.experimental import enable_iterative_imputer\n",
    "from sklearn.impute import SimpleImputer, KNNImputer, IterativeImputer\n",
    "from sklearn.ensemble import RandomForestRegressor\n",
    "from sklearn.pipeline import Pipeline\n",
    "from sklearn.compose import ColumnTransformer\n",
    "from sklearn.preprocessing import OneHotEncoder\n",
    "from sklearn.metrics import mean_squared_error, r2_score"
   ]
  },
  {
   "cell_type": "code",
   "execution_count": 2,
   "id": "040d3132",
   "metadata": {},
   "outputs": [],
   "source": [
    "raw_path = '../01 - data/01 - raw/'\n",
    "df = pd.read_csv(os.path.join(raw_path, 'taxi_trip_pricing.csv'))"
   ]
  },
  {
   "cell_type": "code",
   "execution_count": null,
   "id": "8d90996f",
   "metadata": {},
   "outputs": [],
   "source": [
    "df.info()"
   ]
  },
  {
   "cell_type": "code",
   "execution_count": null,
   "id": "11301f10",
   "metadata": {},
   "outputs": [],
   "source": [
    "df.isnull().sum()"
   ]
  },
  {
   "cell_type": "code",
   "execution_count": 3,
   "id": "26a3fc42",
   "metadata": {},
   "outputs": [],
   "source": [
    "df = df[df['Trip_Price'].notnull()]"
   ]
  },
  {
   "cell_type": "code",
   "execution_count": 4,
   "id": "5c0e6e59",
   "metadata": {},
   "outputs": [],
   "source": [
    "categorical_cols = ['Time_of_Day', 'Day_of_Week', 'Traffic_Conditions', 'Weather']\n",
    "numerical_cols = ['Trip_Distance_km', 'Passenger_Count', 'Base_Fare', \n",
    "                  'Per_Km_Rate', 'Per_Minute_Rate', 'Trip_Duration_Minutes']\n",
    "\n",
    "target = 'Trip_Price'"
   ]
  },
  {
   "cell_type": "code",
   "execution_count": 5,
   "id": "2580881c",
   "metadata": {},
   "outputs": [],
   "source": [
    "simple_imputer = ColumnTransformer(transformers=[\n",
    "    ('num', SimpleImputer(strategy='median'), numerical_cols),\n",
    "    ('cat', Pipeline(steps=[\n",
    "        ('imputer', SimpleImputer(strategy='most_frequent')),\n",
    "        ('encoder', OneHotEncoder(handle_unknown='ignore'))\n",
    "    ]), categorical_cols)\n",
    "])"
   ]
  },
  {
   "cell_type": "code",
   "execution_count": 6,
   "id": "9b01464f",
   "metadata": {},
   "outputs": [],
   "source": [
    "knn_imputer = ColumnTransformer(transformers=[\n",
    "    ('num', Pipeline(steps=[\n",
    "        ('imputer', KNNImputer(n_neighbors=5))\n",
    "    ]), numerical_cols),\n",
    "    ('cat', Pipeline(steps=[\n",
    "        ('imputer', SimpleImputer(strategy='most_frequent')),\n",
    "        ('encoder', OneHotEncoder(handle_unknown='ignore'))\n",
    "    ]), categorical_cols)\n",
    "])"
   ]
  },
  {
   "cell_type": "code",
   "execution_count": 7,
   "id": "c78a6b8a",
   "metadata": {},
   "outputs": [],
   "source": [
    "iterative_imputer = ColumnTransformer(transformers=[\n",
    "    ('num', Pipeline(steps=[\n",
    "        ('imputer', IterativeImputer(random_state=0))\n",
    "    ]), numerical_cols),\n",
    "    ('cat', Pipeline(steps=[\n",
    "        ('imputer', SimpleImputer(strategy='most_frequent')),\n",
    "        ('encoder', OneHotEncoder(handle_unknown='ignore'))\n",
    "    ]), categorical_cols)\n",
    "])"
   ]
  },
  {
   "cell_type": "code",
   "execution_count": 8,
   "id": "37a9f8cc",
   "metadata": {},
   "outputs": [],
   "source": [
    "def evaluate_model(preprocessor, df):\n",
    "    X = df.drop(columns=[target])\n",
    "    y = df[target]\n",
    "\n",
    "    \n",
    "    X_train, X_test, y_train, y_test = train_test_split(X, y, random_state=42)\n",
    "\n",
    "    # Create pipeline with pre-processing and model\n",
    "    model = Pipeline(steps=[\n",
    "        ('preprocessor', preprocessor),\n",
    "        ('regressor', RandomForestRegressor(random_state=42))\n",
    "    ])\n",
    "\n",
    "    model.fit(X_train, y_train)\n",
    "    y_pred = model.predict(X_test)\n",
    "\n",
    "    mse = mean_squared_error(y_test, y_pred)\n",
    "    rmse = np.sqrt(mse)\n",
    "    r2 = r2_score(y_test, y_pred)\n",
    "\n",
    "    return {'RMSE': rmse, 'R2': r2}"
   ]
  },
  {
   "cell_type": "code",
   "execution_count": 9,
   "id": "65fa9f0e",
   "metadata": {},
   "outputs": [],
   "source": [
    "result_simple = evaluate_model(simple_imputer, df)\n",
    "result_knn = evaluate_model(knn_imputer, df)\n",
    "result_iter = evaluate_model(iterative_imputer, df)"
   ]
  },
  {
   "cell_type": "code",
   "execution_count": 10,
   "id": "3f91d6dd",
   "metadata": {},
   "outputs": [
    {
     "data": {
      "text/html": [
       "<div>\n",
       "<style scoped>\n",
       "    .dataframe tbody tr th:only-of-type {\n",
       "        vertical-align: middle;\n",
       "    }\n",
       "\n",
       "    .dataframe tbody tr th {\n",
       "        vertical-align: top;\n",
       "    }\n",
       "\n",
       "    .dataframe thead th {\n",
       "        text-align: right;\n",
       "    }\n",
       "</style>\n",
       "<table border=\"1\" class=\"dataframe\">\n",
       "  <thead>\n",
       "    <tr style=\"text-align: right;\">\n",
       "      <th></th>\n",
       "      <th>Strategy</th>\n",
       "      <th>RMSE</th>\n",
       "      <th>R2</th>\n",
       "    </tr>\n",
       "  </thead>\n",
       "  <tbody>\n",
       "    <tr>\n",
       "      <th>0</th>\n",
       "      <td>Simple (Moda/Mediana)</td>\n",
       "      <td>10.898476</td>\n",
       "      <td>0.945653</td>\n",
       "    </tr>\n",
       "    <tr>\n",
       "      <th>1</th>\n",
       "      <td>KNN Imputer</td>\n",
       "      <td>11.266891</td>\n",
       "      <td>0.941917</td>\n",
       "    </tr>\n",
       "    <tr>\n",
       "      <th>2</th>\n",
       "      <td>Iterative Imputer</td>\n",
       "      <td>11.616091</td>\n",
       "      <td>0.938261</td>\n",
       "    </tr>\n",
       "  </tbody>\n",
       "</table>\n",
       "</div>"
      ],
      "text/plain": [
       "                Strategy       RMSE        R2\n",
       "0  Simple (Moda/Mediana)  10.898476  0.945653\n",
       "1            KNN Imputer  11.266891  0.941917\n",
       "2      Iterative Imputer  11.616091  0.938261"
      ]
     },
     "execution_count": 10,
     "metadata": {},
     "output_type": "execute_result"
    }
   ],
   "source": [
    "results_df = pd.DataFrame([\n",
    "    {'Strategy': 'Simple (Moda/Mediana)', **result_simple},\n",
    "    {'Strategy': 'KNN Imputer', **result_knn},\n",
    "    {'Strategy': 'Iterative Imputer', **result_iter},\n",
    "])\n",
    "\n",
    "results_df.sort_values(by='RMSE')"
   ]
  },
  {
   "cell_type": "code",
   "execution_count": 13,
   "id": "c5fe6725",
   "metadata": {},
   "outputs": [],
   "source": [
    "# 1. Apply the pipeline (fit_transform to learn and apply)\n",
    "X_processed = simple_imputer.fit_transform(df.drop(columns=['Trip_Price']))\n",
    "\n",
    "# 2. Retrieve the column names OneHotEncoder\n",
    "ohe = simple_imputer.named_transformers_['cat'].named_steps['encoder']\n",
    "encoded_cols = ohe.get_feature_names_out(categorical_cols)\n",
    "\n",
    "# 3. Combine names of numeric columns + coded columns\n",
    "all_cols = numerical_cols + list(encoded_cols)\n",
    "\n",
    "# 4. Create a pandas DataFrame with the transformed data\n",
    "df_processed = pd.DataFrame(X_processed, columns=all_cols)\n",
    "\n",
    "# 5. Add the target column (Trip_Price) without change\n",
    "df_processed['Trip_Price'] = df['Trip_Price'].values\n",
    "\n",
    "\n",
    "\n",
    "output_path_ready = '../01 - data/02 - processed/processed_data.csv'\n",
    "df_processed.to_csv(output_path_ready, index=False)\n",
    "\n"
   ]
  }
 ],
 "metadata": {
  "kernelspec": {
   "display_name": "Python 3",
   "language": "python",
   "name": "python3"
  },
  "language_info": {
   "codemirror_mode": {
    "name": "ipython",
    "version": 3
   },
   "file_extension": ".py",
   "mimetype": "text/x-python",
   "name": "python",
   "nbconvert_exporter": "python",
   "pygments_lexer": "ipython3",
   "version": "3.13.2"
  }
 },
 "nbformat": 4,
 "nbformat_minor": 5
}
