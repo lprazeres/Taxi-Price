{
 "cells": [
  {
   "cell_type": "code",
   "execution_count": 4,
   "id": "6381b625",
   "metadata": {},
   "outputs": [],
   "source": [
    "from sklearn.model_selection import train_test_split\n",
    "from sklearn.linear_model import LinearRegression\n",
    "from sklearn.ensemble import RandomForestRegressor\n",
    "from sklearn.ensemble import GradientBoostingRegressor\n",
    "from sklearn.metrics import mean_absolute_error, mean_squared_error, r2_score\n",
    "import numpy as np\n",
    "import pandas as pd\n",
    "import os"
   ]
  },
  {
   "cell_type": "code",
   "execution_count": 5,
   "id": "a022f85d",
   "metadata": {},
   "outputs": [],
   "source": [
    "raw_path = '../01 - data/02 - processed/'\n",
    "df = pd.read_csv(os.path.join(raw_path, 'processed_data.csv'))"
   ]
  },
  {
   "cell_type": "code",
   "execution_count": 10,
   "id": "1728dcfe",
   "metadata": {},
   "outputs": [
    {
     "name": "stdout",
     "output_type": "stream",
     "text": [
      "\n",
      "📊 Model: Linear Regression\n",
      "MAE: 9.88\n",
      "RMSE: 16.94\n",
      "R²: 0.88\n",
      "\n",
      "📊 Model: Random Forest\n",
      "MAE: 6.03\n",
      "RMSE: 11.97\n",
      "R²: 0.94\n",
      "\n",
      "📊 Model: Gradient Boosting\n",
      "MAE: 5.60\n",
      "RMSE: 13.26\n",
      "R²: 0.92\n",
      "\n",
      "🚕 Predicted Trip Price: $48.80\n"
     ]
    }
   ],
   "source": [
    "# Define the significant numerical variables here\n",
    "features = ['Trip_Distance_km', 'Per_Km_Rate', 'Per_Minute_Rate', 'Trip_Duration_Minutes']  # exemplo\n",
    "target = 'Trip_Price'\n",
    "\n",
    "# Separate X and y\n",
    "X = df[features]\n",
    "y = df[target]\n",
    "\n",
    "# Divide the dataset into training (80%) and testing (20%)\n",
    "X_train, X_test, y_train, y_test = train_test_split(X, y, test_size=0.2, random_state=42)\n",
    "\n",
    "# Create the templates\n",
    "models = {\n",
    "    \"Linear Regression\": LinearRegression(),\n",
    "    \"Random Forest\": RandomForestRegressor(random_state=42),\n",
    "    \"Gradient Boosting\": GradientBoostingRegressor(random_state=42)\n",
    "}\n",
    "\n",
    "# Train and evaluate each model\n",
    "for name, model in models.items():\n",
    "    model.fit(X_train, y_train)\n",
    "    y_pred = model.predict(X_test)\n",
    "\n",
    "    print(f\"\\n📊 Model: {name}\")\n",
    "    print(f\"MAE: {mean_absolute_error(y_test, y_pred):.2f}\")\n",
    "    print(f\"RMSE: {np.sqrt(mean_squared_error(y_test, y_pred)):.2f}\")\n",
    "    print(f\"R²: {r2_score(y_test, y_pred):.2f}\")\n",
    "\n",
    "# Example: Manual forecast\n",
    "# Replace with actual input values\n",
    "sample_input = pd.DataFrame([{\n",
    "    'Trip_Distance_km': 25,\n",
    "    'Per_Km_Rate': 12.5,\n",
    "    'Per_Minute_Rate': 2,\n",
    "    'Trip_Duration_Minutes': 1.3\n",
    "}])\n",
    "\n",
    "# Choose the best model after comparing the results\n",
    "best_model = models[\"Random Forest\"]  \n",
    "predicted_price = best_model.predict(sample_input)\n",
    "\n",
    "print(f\"\\n🚕 Predicted Trip Price: ${predicted_price[0]:.2f}\")"
   ]
  }
 ],
 "metadata": {
  "kernelspec": {
   "display_name": "Python 3",
   "language": "python",
   "name": "python3"
  },
  "language_info": {
   "codemirror_mode": {
    "name": "ipython",
    "version": 3
   },
   "file_extension": ".py",
   "mimetype": "text/x-python",
   "name": "python",
   "nbconvert_exporter": "python",
   "pygments_lexer": "ipython3",
   "version": "3.13.2"
  }
 },
 "nbformat": 4,
 "nbformat_minor": 5
}
